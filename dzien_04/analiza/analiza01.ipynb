{
 "cells": [
  {
   "cell_type": "code",
   "execution_count": 12,
   "id": "initial_id",
   "metadata": {
    "ExecuteTime": {
     "end_time": "2025-10-23T06:40:13.240321Z",
     "start_time": "2025-10-23T06:40:13.236293Z"
    },
    "collapsed": true,
    "jupyter": {
     "outputs_hidden": true
    }
   },
   "outputs": [
    {
     "name": "stdout",
     "output_type": "stream",
     "text": [
      "To jest komórka Jupytera\n",
      "2349887777 = 2349887777\n"
     ]
    }
   ],
   "source": [
    "print(\"To jest komórka Jupytera\")\n",
    "# komentarz\n",
    "zmienna = 2349887777\n",
    "print(f\"{zmienna} = {zmienna}\")"
   ]
  },
  {
   "cell_type": "code",
   "execution_count": 13,
   "id": "558091632c956da",
   "metadata": {
    "ExecuteTime": {
     "end_time": "2025-10-23T06:40:13.265713Z",
     "start_time": "2025-10-23T06:40:13.262712Z"
    }
   },
   "outputs": [
    {
     "name": "stdout",
     "output_type": "stream",
     "text": [
      "2.3.3 2349887777\n"
     ]
    }
   ],
   "source": [
    "import pandas as pd\n",
    "print(pd.__version__, zmienna)"
   ]
  },
  {
   "cell_type": "code",
   "execution_count": null,
   "id": "4b2edb4ae0bc5076",
   "metadata": {
    "ExecuteTime": {
     "end_time": "2025-10-23T06:40:13.313277Z",
     "start_time": "2025-10-23T06:40:13.311766Z"
    }
   },
   "outputs": [],
   "source": []
  }
 ],
 "metadata": {
  "kernelspec": {
   "display_name": "Python 3 (ipykernel)",
   "language": "python",
   "name": "python3"
  },
  "language_info": {
   "codemirror_mode": {
    "name": "ipython",
    "version": 3
   },
   "file_extension": ".py",
   "mimetype": "text/x-python",
   "name": "python",
   "nbconvert_exporter": "python",
   "pygments_lexer": "ipython3",
   "version": "3.12.3"
  }
 },
 "nbformat": 4,
 "nbformat_minor": 5
}
